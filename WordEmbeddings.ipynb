{
 "cells": [
  {
   "cell_type": "code",
   "execution_count": 1,
   "id": "15bb6c7d-9c72-433a-a60a-2593bbc22ab3",
   "metadata": {},
   "outputs": [],
   "source": [
    "# !gunzip GoogleNews-vectors-negative300.bin.gz"
   ]
  },
  {
   "cell_type": "code",
   "execution_count": null,
   "id": "342e3987-3eb8-412a-a479-c4f51ef74938",
   "metadata": {},
   "outputs": [],
   "source": [
    "from genism.models import KeyedVectors"
   ]
  },
  {
   "cell_type": "code",
   "execution_count": null,
   "id": "ccb58bc8-334c-4ed7-b67e-91fef09d7601",
   "metadata": {},
   "outputs": [],
   "source": [
    "word_vectors = KeyedVectors.load_word2vec_format(\n",
    "    'GoogleNews-vectors-negative300.bin',    \n",
    "    binary=True\n",
    ")"
   ]
  },
  {
   "cell_type": "code",
   "execution_count": 8,
   "id": "a3d74a33-ba81-433d-923b-f09cbcfc2cc0",
   "metadata": {},
   "outputs": [],
   "source": [
    "def find_analogies(w1, w2, w3):\n",
    "    # w1 -> w2 = ? -> w3\n",
    "    # e.g. king -> man = ? -> woman\n",
    "    # ? = +king +woman -man\n",
    "    r = word_vectors.most_similar(positive=[w1, w3], negative=[w2])\n",
    "    print(\"%s -> %s = %s -> %s\" % (w1, w2, r[0][0], w3))"
   ]
  },
  {
   "cell_type": "code",
   "execution_count": null,
   "id": "34be9452-5894-4558-9625-a75a99417fe8",
   "metadata": {},
   "outputs": [],
   "source": [
    "find_analogies('king', 'man', 'woman')"
   ]
  },
  {
   "cell_type": "code",
   "execution_count": null,
   "id": "143b5b61-3e2e-49cc-82e7-8ff7364b46a6",
   "metadata": {},
   "outputs": [],
   "source": [
    "find_analogies('france', 'paris', 'london')"
   ]
  },
  {
   "cell_type": "code",
   "execution_count": null,
   "id": "3b1ac094-5ecd-4d19-b898-ffba5e2f9740",
   "metadata": {},
   "outputs": [],
   "source": [
    "find_analogies('japan', 'japanese', 'italian')"
   ]
  },
  {
   "cell_type": "code",
   "execution_count": null,
   "id": "b21e4c28-cea8-414d-956f-198574623d6a",
   "metadata": {},
   "outputs": [],
   "source": [
    "find_analogies('man', 'woman', 'she')"
   ]
  },
  {
   "cell_type": "code",
   "execution_count": null,
   "id": "0c30c1b4-e4c2-4c35-afc5-64a4a278e1d4",
   "metadata": {},
   "outputs": [],
   "source": [
    "find_analogies('man', 'woman', 'aunt')"
   ]
  },
  {
   "cell_type": "code",
   "execution_count": null,
   "id": "f883f3f4-4391-4fc3-845d-a10f151fc4e3",
   "metadata": {},
   "outputs": [],
   "source": [
    "find_analogies('man', 'woman', 'sister')"
   ]
  },
  {
   "cell_type": "code",
   "execution_count": null,
   "id": "62aa6488-79cd-4dd9-aad1-c9031421e5f8",
   "metadata": {},
   "outputs": [],
   "source": [
    "find_analogies('man', 'woman', 'actress')"
   ]
  },
  {
   "cell_type": "code",
   "execution_count": 9,
   "id": "544627e8-c68a-44d4-86b3-b331c98c6c47",
   "metadata": {},
   "outputs": [],
   "source": [
    "def nearest_neighbours(w):\n",
    "    r = word_vectors.most_similar(positive=[w])\n",
    "    print(\"Neighbours of: %s\" % w)\n",
    "    for word, score in r:\n",
    "        print(\"\\t%s\" % word)"
   ]
  },
  {
   "cell_type": "code",
   "execution_count": null,
   "id": "02ab8e55-4f26-45bc-89ae-27bde32a726d",
   "metadata": {},
   "outputs": [],
   "source": [
    "nearest_neighbours('king')"
   ]
  },
  {
   "cell_type": "code",
   "execution_count": null,
   "id": "0ed1d5b7-eb63-485f-bb85-895e442dd779",
   "metadata": {},
   "outputs": [],
   "source": [
    "nearest_neighbours('france')"
   ]
  },
  {
   "cell_type": "code",
   "execution_count": null,
   "id": "409323d2-dd21-4138-adbe-6f49fd38d30a",
   "metadata": {},
   "outputs": [],
   "source": [
    "nearest_neighbours('woman')"
   ]
  },
  {
   "cell_type": "code",
   "execution_count": null,
   "id": "842c1852-5ef9-4015-ad5c-5eb7cc64fe61",
   "metadata": {},
   "outputs": [],
   "source": [
    "nearest_neighbours('nephew')"
   ]
  },
  {
   "cell_type": "code",
   "execution_count": null,
   "id": "7fd1d640-290f-4ef6-8062-ee1863a13a07",
   "metadata": {},
   "outputs": [],
   "source": [
    "nearest_neighbours('february')"
   ]
  }
 ],
 "metadata": {
  "kernelspec": {
   "display_name": "Python 3",
   "language": "python",
   "name": "python3"
  },
  "language_info": {
   "codemirror_mode": {
    "name": "ipython",
    "version": 3
   },
   "file_extension": ".py",
   "mimetype": "text/x-python",
   "name": "python",
   "nbconvert_exporter": "python",
   "pygments_lexer": "ipython3",
   "version": "3.9.2"
  },
  "vscode": {
   "interpreter": {
    "hash": "19a84b9d2b85b1b930511c75875bf51e7c2dd0fb8fd43ef6768a7aef3510b532"
   }
  }
 },
 "nbformat": 4,
 "nbformat_minor": 5
}
