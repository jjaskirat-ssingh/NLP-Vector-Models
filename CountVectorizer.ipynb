{
 "cells": [
  {
   "cell_type": "code",
   "execution_count": 1,
   "id": "b4d1719f-c908-4384-857a-c6c8fd6756e6",
   "metadata": {},
   "outputs": [],
   "source": [
    "import numpy as np\n",
    "import pandas as pd\n",
    "from sklearn.feature_extraction.text import CountVectorizer\n",
    "from sklearn.naive_bayes import MultinomialNB\n",
    "from sklearn.model_selection import train_test_split\n",
    "\n",
    "import nltk\n",
    "from nltk import word_tokenize\n",
    "from nltk.stem import WordNetLemmatizer, PorterStemmer\n",
    "from nltk.corpus import wordnet"
   ]
  },
  {
   "cell_type": "code",
   "execution_count": 2,
   "id": "9bcbef05-fbd0-4917-b9c6-29b1dfe0f1be",
   "metadata": {
    "collapsed": true,
    "jupyter": {
     "outputs_hidden": true
    },
    "tags": []
   },
   "outputs": [
    {
     "name": "stderr",
     "output_type": "stream",
     "text": [
      "[nltk_data] Downloading package wordnet to\n",
      "[nltk_data]     C:\\Users\\Jaskirat\\AppData\\Roaming\\nltk_data...\n",
      "[nltk_data]   Package wordnet is already up-to-date!\n",
      "[nltk_data] Downloading package punkt to\n",
      "[nltk_data]     C:\\Users\\Jaskirat\\AppData\\Roaming\\nltk_data...\n",
      "[nltk_data]   Package punkt is already up-to-date!\n",
      "[nltk_data] Downloading package averaged_perceptron_tagger to\n",
      "[nltk_data]     C:\\Users\\Jaskirat\\AppData\\Roaming\\nltk_data...\n",
      "[nltk_data]   Package averaged_perceptron_tagger is already up-to-\n",
      "[nltk_data]       date!\n"
     ]
    },
    {
     "data": {
      "text/plain": [
       "True"
      ]
     },
     "execution_count": 2,
     "metadata": {},
     "output_type": "execute_result"
    }
   ],
   "source": [
    "nltk.download('wordnet')\n",
    "nltk.download('punkt')\n",
    "nltk.download('averaged_perceptron_tagger')"
   ]
  },
  {
   "cell_type": "code",
   "execution_count": 3,
   "id": "70e918c9-3536-4416-b1d0-ee0c1918bcc7",
   "metadata": {},
   "outputs": [],
   "source": [
    "# !wget -nc https://www.kaggle.com/shivamkushwaha/bbc-full-text-document-classification\n",
    "\n",
    "# !wget -nc https://lazyprogrammmer.me/course_files/nlp/bbc_text_cls.csv"
   ]
  },
  {
   "cell_type": "code",
   "execution_count": 4,
   "id": "9c161c2d-f44e-4420-ac5c-cebb1e12300a",
   "metadata": {},
   "outputs": [
    {
     "data": {
      "text/plain": [
       "['./bbc-fulltext/bbc',\n",
       " './bbc-fulltext/bbc\\\\business',\n",
       " './bbc-fulltext/bbc\\\\entertainment',\n",
       " './bbc-fulltext/bbc\\\\politics',\n",
       " './bbc-fulltext/bbc\\\\sport',\n",
       " './bbc-fulltext/bbc\\\\tech']"
      ]
     },
     "execution_count": 4,
     "metadata": {},
     "output_type": "execute_result"
    }
   ],
   "source": [
    "import os\n",
    "\n",
    "dir_path = []\n",
    "for dirname, _, filenames in os.walk('./bbc-fulltext/bbc'):\n",
    "    dir_path.append(dirname)\n",
    "\n",
    "dir_path"
   ]
  },
  {
   "cell_type": "code",
   "execution_count": 5,
   "id": "14fe29ca-f87d-48dd-84bf-9654239f18c9",
   "metadata": {},
   "outputs": [],
   "source": [
    "import glob\n",
    "import io\n",
    "import warnings\n",
    "warnings.filterwarnings(\"ignore\")\n",
    "\n",
    "def text_to_pandasDF(path):\n",
    "    df = pd.DataFrame(columns=['news', 'class'])\n",
    "    txt = []\n",
    "    label = []\n",
    "    \n",
    "    for dirpath in path:\n",
    "        text_files_path = sorted(glob.glob(os.path.join(dirpath, '*.txt')))\n",
    "        \n",
    "        for text_path in text_files_path:\n",
    "            with io.open(text_path, 'r', encoding='utf-8', errors='ignore') as txt_file:\n",
    "                txt.append(txt_file.read())\n",
    "                label.append(dirpath.split('/')[-1])\n",
    "\n",
    "    df['news'] = txt\n",
    "    df['class'] = label\n",
    "    txt, label = [], []\n",
    "    \n",
    "    return df"
   ]
  },
  {
   "cell_type": "code",
   "execution_count": 6,
   "id": "f746c02a-171c-4055-888c-97bd597afbe1",
   "metadata": {},
   "outputs": [
    {
     "data": {
      "text/html": [
       "<div>\n",
       "<style scoped>\n",
       "    .dataframe tbody tr th:only-of-type {\n",
       "        vertical-align: middle;\n",
       "    }\n",
       "\n",
       "    .dataframe tbody tr th {\n",
       "        vertical-align: top;\n",
       "    }\n",
       "\n",
       "    .dataframe thead th {\n",
       "        text-align: right;\n",
       "    }\n",
       "</style>\n",
       "<table border=\"1\" class=\"dataframe\">\n",
       "  <thead>\n",
       "    <tr style=\"text-align: right;\">\n",
       "      <th></th>\n",
       "      <th>news</th>\n",
       "      <th>class</th>\n",
       "    </tr>\n",
       "  </thead>\n",
       "  <tbody>\n",
       "    <tr>\n",
       "      <th>0</th>\n",
       "      <td>Ad sales boost Time Warner profit\\n\\nQuarterly...</td>\n",
       "      <td>bbc\\business</td>\n",
       "    </tr>\n",
       "    <tr>\n",
       "      <th>1</th>\n",
       "      <td>Dollar gains on Greenspan speech\\n\\nThe dollar...</td>\n",
       "      <td>bbc\\business</td>\n",
       "    </tr>\n",
       "    <tr>\n",
       "      <th>2</th>\n",
       "      <td>Yukos unit buyer faces loan claim\\n\\nThe owner...</td>\n",
       "      <td>bbc\\business</td>\n",
       "    </tr>\n",
       "    <tr>\n",
       "      <th>3</th>\n",
       "      <td>High fuel prices hit BA's profits\\n\\nBritish A...</td>\n",
       "      <td>bbc\\business</td>\n",
       "    </tr>\n",
       "    <tr>\n",
       "      <th>4</th>\n",
       "      <td>Pernod takeover talk lifts Domecq\\n\\nShares in...</td>\n",
       "      <td>bbc\\business</td>\n",
       "    </tr>\n",
       "  </tbody>\n",
       "</table>\n",
       "</div>"
      ],
      "text/plain": [
       "                                                news         class\n",
       "0  Ad sales boost Time Warner profit\\n\\nQuarterly...  bbc\\business\n",
       "1  Dollar gains on Greenspan speech\\n\\nThe dollar...  bbc\\business\n",
       "2  Yukos unit buyer faces loan claim\\n\\nThe owner...  bbc\\business\n",
       "3  High fuel prices hit BA's profits\\n\\nBritish A...  bbc\\business\n",
       "4  Pernod takeover talk lifts Domecq\\n\\nShares in...  bbc\\business"
      ]
     },
     "execution_count": 6,
     "metadata": {},
     "output_type": "execute_result"
    }
   ],
   "source": [
    "df = text_to_pandasDF(dir_path[1:])\n",
    "df.head()"
   ]
  },
  {
   "cell_type": "code",
   "execution_count": 7,
   "id": "164e94b2-c403-4111-b71e-bbbc2b5746a4",
   "metadata": {},
   "outputs": [],
   "source": [
    "inputs = df['news']\n",
    "labels = df['class']"
   ]
  },
  {
   "cell_type": "code",
   "execution_count": 8,
   "id": "b4f2f824-533a-41d0-a7c9-1d7d482646ec",
   "metadata": {},
   "outputs": [
    {
     "data": {
      "image/png": "[encoded data removed]",
      "text/plain": [
       "<Figure size 720x360 with 1 Axes>"
      ]
     },
     "metadata": {
      "needs_background": "light"
     },
     "output_type": "display_data"
    }
   ],
   "source": [
    "labels.hist(figsize=(10,5));"
   ]
  },
  {
   "cell_type": "code",
   "execution_count": 9,
   "id": "db4af76e-e979-41e8-bdab-0f02448f1fe1",
   "metadata": {},
   "outputs": [],
   "source": [
    "inputs_train, inputs_test, Ytrain, Ytest = train_test_split(inputs, labels, random_state=42)"
   ]
  },
  {
   "cell_type": "code",
   "execution_count": 10,
   "id": "326b1a19-9ba0-49b9-82a9-636c46166422",
   "metadata": {},
   "outputs": [],
   "source": [
    "vectorizer = CountVectorizer()"
   ]
  },
  {
   "cell_type": "code",
   "execution_count": 11,
   "id": "d516fe42-40a2-4965-a037-b49e9132409d",
   "metadata": {},
   "outputs": [],
   "source": [
    "Xtrain = vectorizer.fit_transform(inputs_train)\n",
    "Xtest = vectorizer.transform(inputs_test)"
   ]
  },
  {
   "cell_type": "code",
   "execution_count": 12,
   "id": "7503fe0e-4bbb-432f-a229-2fc6864fe2ae",
   "metadata": {},
   "outputs": [
    {
     "data": {
      "text/plain": [
       "<1668x26157 sparse matrix of type '<class 'numpy.int64'>'\n",
       "\twith 337538 stored elements in Compressed Sparse Row format>"
      ]
     },
     "execution_count": 12,
     "metadata": {},
     "output_type": "execute_result"
    }
   ],
   "source": [
    "Xtrain"
   ]
  },
  {
   "cell_type": "code",
   "execution_count": 13,
   "id": "d4f30640-5c09-45a3-b536-60d15f6d61f8",
   "metadata": {},
   "outputs": [
    {
     "data": {
      "text/plain": [
       "337538"
      ]
     },
     "execution_count": 13,
     "metadata": {},
     "output_type": "execute_result"
    }
   ],
   "source": [
    "(Xtrain!=0).sum()"
   ]
  },
  {
   "cell_type": "code",
   "execution_count": 14,
   "id": "d4f1e187-0c58-4934-ac8a-83f4f29b38f5",
   "metadata": {},
   "outputs": [
    {
     "data": {
      "text/plain": [
       "0.00773639604201488"
      ]
     },
     "execution_count": 14,
     "metadata": {},
     "output_type": "execute_result"
    }
   ],
   "source": [
    "# what percentage of values are non-zero?\n",
    "(Xtrain!=0).sum() / np.prod(Xtrain.shape)"
   ]
  },
  {
   "cell_type": "code",
   "execution_count": 15,
   "id": "b6b15513-2c62-40da-9867-1a62f8d37190",
   "metadata": {},
   "outputs": [
    {
     "name": "stdout",
     "output_type": "stream",
     "text": [
      "train score:  0.9952038369304557\n",
      "test score:  0.9712746858168761\n"
     ]
    }
   ],
   "source": [
    "model = MultinomialNB()\n",
    "model.fit(Xtrain, Ytrain)\n",
    "print('train score: ', model.score(Xtrain, Ytrain))\n",
    "print('test score: ', model.score(Xtest, Ytest))"
   ]
  },
  {
   "cell_type": "code",
   "execution_count": 16,
   "id": "bd9434ac-d2b1-4499-8a46-f343b80a101f",
   "metadata": {},
   "outputs": [
    {
     "name": "stdout",
     "output_type": "stream",
     "text": [
      "train score:  0.9964028776978417\n",
      "test score:  0.9712746858168761\n"
     ]
    }
   ],
   "source": [
    "# with stopwords\n",
    "vectorizer = CountVectorizer(stop_words='english')\n",
    "Xtrain = vectorizer.fit_transform(inputs_train)\n",
    "Xtest = vectorizer.transform(inputs_test)\n",
    "model = MultinomialNB()\n",
    "model.fit(Xtrain, Ytrain)\n",
    "print('train score: ', model.score(Xtrain, Ytrain))\n",
    "print('test score: ', model.score(Xtest, Ytest))"
   ]
  },
  {
   "cell_type": "code",
   "execution_count": 17,
   "id": "47a4fc08-8200-4222-b24f-1579404f70ee",
   "metadata": {},
   "outputs": [],
   "source": [
    "def get_wordnet_pos(treebank_tag):\n",
    "    if treebank_tag.startswith('J'):\n",
    "        return wordnet.ADJ\n",
    "    elif treebank_tag.startswith('V'):\n",
    "        return wordnet.VERB\n",
    "    elif treebank_tag.startswith('N'):\n",
    "        return wordnet.NOUN\n",
    "    elif treebank_tag.startswith('R'):\n",
    "        return wordnet.ADV\n",
    "    else:\n",
    "        return wordnet.NOUN"
   ]
  },
  {
   "cell_type": "code",
   "execution_count": 18,
   "id": "6105eed6-c999-4875-bf58-896037149966",
   "metadata": {},
   "outputs": [],
   "source": [
    "class LemmaTokenizer:\n",
    "    def __init__(self):\n",
    "        self.wnl = WordNetLemmatizer()\n",
    "    def __call__(self, doc):\n",
    "        tokens = word_tokenize(doc)\n",
    "        words_and_tags = nltk.pos_tag(tokens)\n",
    "        return [self.wnl.lemmatize(word, pos=get_wordnet_pos(tag)) \\\n",
    "               for word, tag in words_and_tags]"
   ]
  },
  {
   "cell_type": "code",
   "execution_count": 19,
   "id": "062759cf-0cfe-47de-96be-8e9c1efe805d",
   "metadata": {
    "collapsed": true,
    "jupyter": {
     "outputs_hidden": true
    },
    "tags": []
   },
   "outputs": [
    {
     "name": "stderr",
     "output_type": "stream",
     "text": [
      "[nltk_data] Downloading package omw-1.4 to\n",
      "[nltk_data]     C:\\Users\\Jaskirat\\AppData\\Roaming\\nltk_data...\n",
      "[nltk_data]   Package omw-1.4 is already up-to-date!\n"
     ]
    },
    {
     "data": {
      "text/plain": [
       "True"
      ]
     },
     "execution_count": 19,
     "metadata": {},
     "output_type": "execute_result"
    }
   ],
   "source": [
    "nltk.download('omw-1.4')"
   ]
  },
  {
   "cell_type": "code",
   "execution_count": 20,
   "id": "4c3f7f8b-fa5a-4d08-a3e0-a593ed4f0f38",
   "metadata": {},
   "outputs": [
    {
     "name": "stdout",
     "output_type": "stream",
     "text": [
      "train score:  0.9928057553956835\n",
      "test score:  0.9694793536804309\n"
     ]
    }
   ],
   "source": [
    "# with lemmatization\n",
    "vectorizer = CountVectorizer(tokenizer=LemmaTokenizer())\n",
    "Xtrain = vectorizer.fit_transform(inputs_train)\n",
    "Xtest = vectorizer.transform(inputs_test)\n",
    "model = MultinomialNB()\n",
    "model.fit(Xtrain, Ytrain)\n",
    "print('train score: ', model.score(Xtrain, Ytrain))\n",
    "print('test score: ', model.score(Xtest, Ytest))"
   ]
  },
  {
   "cell_type": "code",
   "execution_count": 21,
   "id": "4ad05975-826e-42e5-8bc1-b4846e07ac18",
   "metadata": {},
   "outputs": [],
   "source": [
    "class StemTokenizer:\n",
    "    def __init__(self):\n",
    "        self.porter = PorterStemmer()\n",
    "    def __call__(self, doc):\n",
    "        tokens = word_tokenize(doc)\n",
    "        return [self.porter.stem(t) for t in tokens]"
   ]
  },
  {
   "cell_type": "code",
   "execution_count": 22,
   "id": "534d34bd-3621-40d6-b166-2bc2c161d0ba",
   "metadata": {},
   "outputs": [
    {
     "name": "stdout",
     "output_type": "stream",
     "text": [
      "train score:  0.9922062350119905\n",
      "test score:  0.9712746858168761\n"
     ]
    }
   ],
   "source": [
    "# with stemming\n",
    "vectorizer = CountVectorizer(tokenizer=StemTokenizer())\n",
    "Xtrain = vectorizer.fit_transform(inputs_train)\n",
    "Xtest = vectorizer.transform(inputs_test)\n",
    "model = MultinomialNB()\n",
    "model.fit(Xtrain, Ytrain)\n",
    "print('train score: ', model.score(Xtrain, Ytrain))\n",
    "print('test score: ', model.score(Xtest, Ytest))"
   ]
  },
  {
   "cell_type": "code",
   "execution_count": 23,
   "id": "27ea6e8d-ec3f-49df-9f3d-6c1245c4c416",
   "metadata": {},
   "outputs": [],
   "source": [
    "def simple_tokenizer(s):\n",
    "    return s.split()"
   ]
  },
  {
   "cell_type": "code",
   "execution_count": 24,
   "id": "3bf18fce-2ac3-4249-9752-b41e7b4c6a21",
   "metadata": {},
   "outputs": [
    {
     "name": "stdout",
     "output_type": "stream",
     "text": [
      "train score:  0.9988009592326139\n",
      "test score:  0.9587073608617595\n"
     ]
    }
   ],
   "source": [
    "# string split tokenizer\n",
    "vectorizer = CountVectorizer(tokenizer=simple_tokenizer)\n",
    "Xtrain = vectorizer.fit_transform(inputs_train)\n",
    "Xtest = vectorizer.transform(inputs_test)\n",
    "model = MultinomialNB()\n",
    "model.fit(Xtrain, Ytrain)\n",
    "print('train score: ', model.score(Xtrain, Ytrain))\n",
    "print('test score: ', model.score(Xtest, Ytest))"
   ]
  }
 ],
 "metadata": {
  "kernelspec": {
   "display_name": "Python 3 (ipykernel)",
   "language": "python",
   "name": "python3"
  },
  "language_info": {
   "codemirror_mode": {
    "name": "ipython",
    "version": 3
   },
   "file_extension": ".py",
   "mimetype": "text/x-python",
   "name": "python",
   "nbconvert_exporter": "python",
   "pygments_lexer": "ipython3",
   "version": "3.9.2"
  }
 },
 "nbformat": 4,
 "nbformat_minor": 5
}
